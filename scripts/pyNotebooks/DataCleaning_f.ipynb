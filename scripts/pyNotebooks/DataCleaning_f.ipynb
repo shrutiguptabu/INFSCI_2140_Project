{
 "cells": [
  {
   "cell_type": "code",
   "execution_count": 1,
   "metadata": {},
   "outputs": [
    {
     "name": "stderr",
     "output_type": "stream",
     "text": [
      "[nltk_data] Downloading package stopwords to\n",
      "[nltk_data]     /Users/aishwaryajakka/nltk_data...\n",
      "[nltk_data]   Package stopwords is already up-to-date!\n",
      "[nltk_data] Downloading package wordnet to\n",
      "[nltk_data]     /Users/aishwaryajakka/nltk_data...\n",
      "[nltk_data]   Package wordnet is already up-to-date!\n"
     ]
    }
   ],
   "source": [
    "import pandas as pd\n",
    "import numpy as np\n",
    "%matplotlib inline\n",
    "import re\n",
    "import string\n",
    "import pickle\n",
    "\n",
    "import nltk\n",
    "nltk.download('stopwords')\n",
    "nltk.download('wordnet')\n",
    "from nltk.stem import WordNetLemmatizer \n",
    "from nltk.tokenize import RegexpTokenizer\n",
    "\n",
    "import spacy as sp\n",
    "# import en_core_web_md\n",
    "\n",
    "# misspelling:\n",
    "from textblob import TextBlob\n",
    "# missing whitespace\n",
    "import wordninja\n",
    "\n",
    "from nltk.corpus import stopwords\n",
    "from sklearn.feature_extraction.text import CountVectorizer\n",
    "from sklearn.feature_extraction.text import TfidfVectorizer\n",
    "from sklearn.decomposition import TruncatedSVD,LatentDirichletAllocation\n",
    "from sklearn.metrics.pairwise import linear_kernel\n",
    "from sklearn.decomposition import NMF\n",
    "from gensim import corpora, models, similarities, matutils\n",
    "from gensim.corpora import Dictionary\n",
    "from sklearn.metrics.pairwise import cosine_similarity"
   ]
  },
  {
   "cell_type": "code",
   "execution_count": 3,
   "metadata": {},
   "outputs": [
    {
     "data": {
      "text/plain": [
       "(124428, 2)"
      ]
     },
     "execution_count": 3,
     "metadata": {},
     "output_type": "execute_result"
    }
   ],
   "source": [
    "## Read csv\n",
    "product_descriptions = pd.read_csv('../../data/product_descriptions.csv', encoding='ISO-8859-1')\n",
    "product_descriptions.shape\n"
   ]
  },
  {
   "cell_type": "code",
   "execution_count": 4,
   "metadata": {},
   "outputs": [
    {
     "data": {
      "text/html": [
       "<div>\n",
       "<style scoped>\n",
       "    .dataframe tbody tr th:only-of-type {\n",
       "        vertical-align: middle;\n",
       "    }\n",
       "\n",
       "    .dataframe tbody tr th {\n",
       "        vertical-align: top;\n",
       "    }\n",
       "\n",
       "    .dataframe thead th {\n",
       "        text-align: right;\n",
       "    }\n",
       "</style>\n",
       "<table border=\"1\" class=\"dataframe\">\n",
       "  <thead>\n",
       "    <tr style=\"text-align: right;\">\n",
       "      <th></th>\n",
       "      <th>product_uid</th>\n",
       "      <th>product_description</th>\n",
       "    </tr>\n",
       "  </thead>\n",
       "  <tbody>\n",
       "    <tr>\n",
       "      <th>0</th>\n",
       "      <td>100001</td>\n",
       "      <td>Not only do angles make joints stronger, they ...</td>\n",
       "    </tr>\n",
       "    <tr>\n",
       "      <th>1</th>\n",
       "      <td>100002</td>\n",
       "      <td>BEHR Premium Textured DECKOVER is an innovativ...</td>\n",
       "    </tr>\n",
       "    <tr>\n",
       "      <th>2</th>\n",
       "      <td>100003</td>\n",
       "      <td>Classic architecture meets contemporary design...</td>\n",
       "    </tr>\n",
       "    <tr>\n",
       "      <th>3</th>\n",
       "      <td>100004</td>\n",
       "      <td>The Grape Solar 265-Watt Polycrystalline PV So...</td>\n",
       "    </tr>\n",
       "    <tr>\n",
       "      <th>4</th>\n",
       "      <td>100005</td>\n",
       "      <td>Update your bathroom with the Delta Vero Singl...</td>\n",
       "    </tr>\n",
       "  </tbody>\n",
       "</table>\n",
       "</div>"
      ],
      "text/plain": [
       "   product_uid                                product_description\n",
       "0       100001  Not only do angles make joints stronger, they ...\n",
       "1       100002  BEHR Premium Textured DECKOVER is an innovativ...\n",
       "2       100003  Classic architecture meets contemporary design...\n",
       "3       100004  The Grape Solar 265-Watt Polycrystalline PV So...\n",
       "4       100005  Update your bathroom with the Delta Vero Singl..."
      ]
     },
     "execution_count": 4,
     "metadata": {},
     "output_type": "execute_result"
    }
   ],
   "source": [
    "product_descriptions.head()"
   ]
  },
  {
   "cell_type": "code",
   "execution_count": 5,
   "metadata": {},
   "outputs": [],
   "source": [
    "train = pd.read_csv('../../data/train.csv',encoding='ISO-8859-1')\n",
    "train.head()\n",
    "train = train.drop_duplicates()"
   ]
  },
  {
   "cell_type": "code",
   "execution_count": 6,
   "metadata": {},
   "outputs": [
    {
     "data": {
      "text/html": [
       "<div>\n",
       "<style scoped>\n",
       "    .dataframe tbody tr th:only-of-type {\n",
       "        vertical-align: middle;\n",
       "    }\n",
       "\n",
       "    .dataframe tbody tr th {\n",
       "        vertical-align: top;\n",
       "    }\n",
       "\n",
       "    .dataframe thead th {\n",
       "        text-align: right;\n",
       "    }\n",
       "</style>\n",
       "<table border=\"1\" class=\"dataframe\">\n",
       "  <thead>\n",
       "    <tr style=\"text-align: right;\">\n",
       "      <th></th>\n",
       "      <th>id</th>\n",
       "      <th>product_uid</th>\n",
       "      <th>product_title</th>\n",
       "      <th>search_term</th>\n",
       "      <th>relevance</th>\n",
       "    </tr>\n",
       "  </thead>\n",
       "  <tbody>\n",
       "    <tr>\n",
       "      <th>0</th>\n",
       "      <td>2</td>\n",
       "      <td>100001</td>\n",
       "      <td>Simpson Strong-Tie 12-Gauge Angle</td>\n",
       "      <td>angle bracket</td>\n",
       "      <td>3.00</td>\n",
       "    </tr>\n",
       "    <tr>\n",
       "      <th>1</th>\n",
       "      <td>3</td>\n",
       "      <td>100001</td>\n",
       "      <td>Simpson Strong-Tie 12-Gauge Angle</td>\n",
       "      <td>l bracket</td>\n",
       "      <td>2.50</td>\n",
       "    </tr>\n",
       "    <tr>\n",
       "      <th>2</th>\n",
       "      <td>9</td>\n",
       "      <td>100002</td>\n",
       "      <td>BEHR Premium Textured DeckOver 1-gal. #SC-141 ...</td>\n",
       "      <td>deck over</td>\n",
       "      <td>3.00</td>\n",
       "    </tr>\n",
       "    <tr>\n",
       "      <th>3</th>\n",
       "      <td>16</td>\n",
       "      <td>100005</td>\n",
       "      <td>Delta Vero 1-Handle Shower Only Faucet Trim Ki...</td>\n",
       "      <td>rain shower head</td>\n",
       "      <td>2.33</td>\n",
       "    </tr>\n",
       "    <tr>\n",
       "      <th>4</th>\n",
       "      <td>17</td>\n",
       "      <td>100005</td>\n",
       "      <td>Delta Vero 1-Handle Shower Only Faucet Trim Ki...</td>\n",
       "      <td>shower only faucet</td>\n",
       "      <td>2.67</td>\n",
       "    </tr>\n",
       "  </tbody>\n",
       "</table>\n",
       "</div>"
      ],
      "text/plain": [
       "   id  product_uid                                      product_title  \\\n",
       "0   2       100001                  Simpson Strong-Tie 12-Gauge Angle   \n",
       "1   3       100001                  Simpson Strong-Tie 12-Gauge Angle   \n",
       "2   9       100002  BEHR Premium Textured DeckOver 1-gal. #SC-141 ...   \n",
       "3  16       100005  Delta Vero 1-Handle Shower Only Faucet Trim Ki...   \n",
       "4  17       100005  Delta Vero 1-Handle Shower Only Faucet Trim Ki...   \n",
       "\n",
       "          search_term  relevance  \n",
       "0       angle bracket       3.00  \n",
       "1           l bracket       2.50  \n",
       "2           deck over       3.00  \n",
       "3    rain shower head       2.33  \n",
       "4  shower only faucet       2.67  "
      ]
     },
     "execution_count": 6,
     "metadata": {},
     "output_type": "execute_result"
    }
   ],
   "source": [
    "train.head()"
   ]
  },
  {
   "cell_type": "code",
   "execution_count": 7,
   "metadata": {},
   "outputs": [],
   "source": [
    "# join the two df\n",
    "product_df = pd.merge(left=train, right=product_descriptions, how='left', left_on='product_uid', right_on='product_uid')"
   ]
  },
  {
   "cell_type": "code",
   "execution_count": 8,
   "metadata": {},
   "outputs": [
    {
     "data": {
      "text/html": [
       "<div>\n",
       "<style scoped>\n",
       "    .dataframe tbody tr th:only-of-type {\n",
       "        vertical-align: middle;\n",
       "    }\n",
       "\n",
       "    .dataframe tbody tr th {\n",
       "        vertical-align: top;\n",
       "    }\n",
       "\n",
       "    .dataframe thead th {\n",
       "        text-align: right;\n",
       "    }\n",
       "</style>\n",
       "<table border=\"1\" class=\"dataframe\">\n",
       "  <thead>\n",
       "    <tr style=\"text-align: right;\">\n",
       "      <th></th>\n",
       "      <th>id</th>\n",
       "      <th>product_uid</th>\n",
       "      <th>product_title</th>\n",
       "      <th>search_term</th>\n",
       "      <th>relevance</th>\n",
       "      <th>product_description</th>\n",
       "    </tr>\n",
       "  </thead>\n",
       "  <tbody>\n",
       "    <tr>\n",
       "      <th>0</th>\n",
       "      <td>2</td>\n",
       "      <td>100001</td>\n",
       "      <td>Simpson Strong-Tie 12-Gauge Angle</td>\n",
       "      <td>angle bracket</td>\n",
       "      <td>3.00</td>\n",
       "      <td>Not only do angles make joints stronger, they ...</td>\n",
       "    </tr>\n",
       "    <tr>\n",
       "      <th>2</th>\n",
       "      <td>9</td>\n",
       "      <td>100002</td>\n",
       "      <td>BEHR Premium Textured DeckOver 1-gal. #SC-141 ...</td>\n",
       "      <td>deck over</td>\n",
       "      <td>3.00</td>\n",
       "      <td>BEHR Premium Textured DECKOVER is an innovativ...</td>\n",
       "    </tr>\n",
       "    <tr>\n",
       "      <th>3</th>\n",
       "      <td>16</td>\n",
       "      <td>100005</td>\n",
       "      <td>Delta Vero 1-Handle Shower Only Faucet Trim Ki...</td>\n",
       "      <td>rain shower head</td>\n",
       "      <td>2.33</td>\n",
       "      <td>Update your bathroom with the Delta Vero Singl...</td>\n",
       "    </tr>\n",
       "    <tr>\n",
       "      <th>5</th>\n",
       "      <td>18</td>\n",
       "      <td>100006</td>\n",
       "      <td>Whirlpool 1.9 cu. ft. Over the Range Convectio...</td>\n",
       "      <td>convection otr</td>\n",
       "      <td>3.00</td>\n",
       "      <td>Achieving delicious results is almost effortle...</td>\n",
       "    </tr>\n",
       "    <tr>\n",
       "      <th>8</th>\n",
       "      <td>23</td>\n",
       "      <td>100007</td>\n",
       "      <td>Lithonia Lighting Quantum 2-Light Black LED Em...</td>\n",
       "      <td>emergency light</td>\n",
       "      <td>2.67</td>\n",
       "      <td>The Quantum Adjustable 2-Light LED Black Emerg...</td>\n",
       "    </tr>\n",
       "    <tr>\n",
       "      <th>...</th>\n",
       "      <td>...</td>\n",
       "      <td>...</td>\n",
       "      <td>...</td>\n",
       "      <td>...</td>\n",
       "      <td>...</td>\n",
       "      <td>...</td>\n",
       "    </tr>\n",
       "    <tr>\n",
       "      <th>74062</th>\n",
       "      <td>221457</td>\n",
       "      <td>206638</td>\n",
       "      <td>Atlantic Windowpane 576 CD or 192 DVD Blu-Ray ...</td>\n",
       "      <td>tv riser glass</td>\n",
       "      <td>1.00</td>\n",
       "      <td>Atlantic, Inc. 94835722 Uniquely designed for ...</td>\n",
       "    </tr>\n",
       "    <tr>\n",
       "      <th>74063</th>\n",
       "      <td>221458</td>\n",
       "      <td>206639</td>\n",
       "      <td>Philips 40-Watt Halogen R20 Flood Light Bulb (...</td>\n",
       "      <td>r20 halogen light</td>\n",
       "      <td>3.00</td>\n",
       "      <td>Philips Energy Advantage lamps use less energy...</td>\n",
       "    </tr>\n",
       "    <tr>\n",
       "      <th>74064</th>\n",
       "      <td>221463</td>\n",
       "      <td>206641</td>\n",
       "      <td>Schlage Camelot In-Active Aged Bronze Handlese...</td>\n",
       "      <td>schlage lock siena half dummy knob with</td>\n",
       "      <td>2.33</td>\n",
       "      <td>The Schlage Camelot In-Active Aged Bronze Hand...</td>\n",
       "    </tr>\n",
       "    <tr>\n",
       "      <th>74065</th>\n",
       "      <td>221471</td>\n",
       "      <td>206648</td>\n",
       "      <td>Plastec 11 in. x 24 in. Rose Garden Wall Decor...</td>\n",
       "      <td>zen garden  decor</td>\n",
       "      <td>3.00</td>\n",
       "      <td>The Rose Garden is inspired by the popular ear...</td>\n",
       "    </tr>\n",
       "    <tr>\n",
       "      <th>74066</th>\n",
       "      <td>221473</td>\n",
       "      <td>206650</td>\n",
       "      <td>LICHTENBERG Pool Blue No. 918 Millennial Ryan ...</td>\n",
       "      <td>fine sheer curtain 63 inches</td>\n",
       "      <td>2.33</td>\n",
       "      <td>No. 918 Millennial Ryan heathered texture semi...</td>\n",
       "    </tr>\n",
       "  </tbody>\n",
       "</table>\n",
       "<p>54667 rows × 6 columns</p>\n",
       "</div>"
      ],
      "text/plain": [
       "           id  product_uid                                      product_title  \\\n",
       "0           2       100001                  Simpson Strong-Tie 12-Gauge Angle   \n",
       "2           9       100002  BEHR Premium Textured DeckOver 1-gal. #SC-141 ...   \n",
       "3          16       100005  Delta Vero 1-Handle Shower Only Faucet Trim Ki...   \n",
       "5          18       100006  Whirlpool 1.9 cu. ft. Over the Range Convectio...   \n",
       "8          23       100007  Lithonia Lighting Quantum 2-Light Black LED Em...   \n",
       "...       ...          ...                                                ...   \n",
       "74062  221457       206638  Atlantic Windowpane 576 CD or 192 DVD Blu-Ray ...   \n",
       "74063  221458       206639  Philips 40-Watt Halogen R20 Flood Light Bulb (...   \n",
       "74064  221463       206641  Schlage Camelot In-Active Aged Bronze Handlese...   \n",
       "74065  221471       206648  Plastec 11 in. x 24 in. Rose Garden Wall Decor...   \n",
       "74066  221473       206650  LICHTENBERG Pool Blue No. 918 Millennial Ryan ...   \n",
       "\n",
       "                                   search_term  relevance  \\\n",
       "0                                angle bracket       3.00   \n",
       "2                                    deck over       3.00   \n",
       "3                             rain shower head       2.33   \n",
       "5                               convection otr       3.00   \n",
       "8                              emergency light       2.67   \n",
       "...                                        ...        ...   \n",
       "74062                           tv riser glass       1.00   \n",
       "74063                        r20 halogen light       3.00   \n",
       "74064  schlage lock siena half dummy knob with       2.33   \n",
       "74065                        zen garden  decor       3.00   \n",
       "74066             fine sheer curtain 63 inches       2.33   \n",
       "\n",
       "                                     product_description  \n",
       "0      Not only do angles make joints stronger, they ...  \n",
       "2      BEHR Premium Textured DECKOVER is an innovativ...  \n",
       "3      Update your bathroom with the Delta Vero Singl...  \n",
       "5      Achieving delicious results is almost effortle...  \n",
       "8      The Quantum Adjustable 2-Light LED Black Emerg...  \n",
       "...                                                  ...  \n",
       "74062  Atlantic, Inc. 94835722 Uniquely designed for ...  \n",
       "74063  Philips Energy Advantage lamps use less energy...  \n",
       "74064  The Schlage Camelot In-Active Aged Bronze Hand...  \n",
       "74065  The Rose Garden is inspired by the popular ear...  \n",
       "74066  No. 918 Millennial Ryan heathered texture semi...  \n",
       "\n",
       "[54667 rows x 6 columns]"
      ]
     },
     "execution_count": 8,
     "metadata": {},
     "output_type": "execute_result"
    }
   ],
   "source": [
    "product_df = pd.DataFrame(product_df)\n",
    "product_df = product_df.drop_duplicates(subset = [\"product_uid\"])\n",
    "\n",
    "product_df"
   ]
  },
  {
   "cell_type": "code",
   "execution_count": 9,
   "metadata": {},
   "outputs": [
    {
     "data": {
      "text/plain": [
       "id                     0\n",
       "product_uid            0\n",
       "product_title          0\n",
       "search_term            0\n",
       "relevance              0\n",
       "product_description    0\n",
       "dtype: int64"
      ]
     },
     "execution_count": 9,
     "metadata": {},
     "output_type": "execute_result"
    }
   ],
   "source": [
    "product_df.isna().sum()\n"
   ]
  },
  {
   "cell_type": "code",
   "execution_count": 10,
   "metadata": {},
   "outputs": [],
   "source": [
    "# product_uid is float, convert it into int\n",
    "product_df['product_uid'] = product_df['product_uid'].astype(int)"
   ]
  },
  {
   "cell_type": "code",
   "execution_count": 11,
   "metadata": {},
   "outputs": [],
   "source": [
    "# merge the search_term \n",
    "search_terms = product_df[['product_uid','search_term']]\n",
    "relevance = product_df[['product_uid','relevance']]\n"
   ]
  },
  {
   "cell_type": "code",
   "execution_count": 12,
   "metadata": {},
   "outputs": [
    {
     "data": {
      "text/html": [
       "<div>\n",
       "<style scoped>\n",
       "    .dataframe tbody tr th:only-of-type {\n",
       "        vertical-align: middle;\n",
       "    }\n",
       "\n",
       "    .dataframe tbody tr th {\n",
       "        vertical-align: top;\n",
       "    }\n",
       "\n",
       "    .dataframe thead th {\n",
       "        text-align: right;\n",
       "    }\n",
       "</style>\n",
       "<table border=\"1\" class=\"dataframe\">\n",
       "  <thead>\n",
       "    <tr style=\"text-align: right;\">\n",
       "      <th></th>\n",
       "      <th>product_uid</th>\n",
       "      <th>product_title</th>\n",
       "      <th>product_description</th>\n",
       "    </tr>\n",
       "  </thead>\n",
       "  <tbody>\n",
       "    <tr>\n",
       "      <th>0</th>\n",
       "      <td>100001</td>\n",
       "      <td>Simpson Strong-Tie 12-Gauge Angle</td>\n",
       "      <td>Not only do angles make joints stronger, they ...</td>\n",
       "    </tr>\n",
       "    <tr>\n",
       "      <th>2</th>\n",
       "      <td>100002</td>\n",
       "      <td>BEHR Premium Textured DeckOver 1-gal. #SC-141 ...</td>\n",
       "      <td>BEHR Premium Textured DECKOVER is an innovativ...</td>\n",
       "    </tr>\n",
       "    <tr>\n",
       "      <th>3</th>\n",
       "      <td>100005</td>\n",
       "      <td>Delta Vero 1-Handle Shower Only Faucet Trim Ki...</td>\n",
       "      <td>Update your bathroom with the Delta Vero Singl...</td>\n",
       "    </tr>\n",
       "    <tr>\n",
       "      <th>5</th>\n",
       "      <td>100006</td>\n",
       "      <td>Whirlpool 1.9 cu. ft. Over the Range Convectio...</td>\n",
       "      <td>Achieving delicious results is almost effortle...</td>\n",
       "    </tr>\n",
       "    <tr>\n",
       "      <th>8</th>\n",
       "      <td>100007</td>\n",
       "      <td>Lithonia Lighting Quantum 2-Light Black LED Em...</td>\n",
       "      <td>The Quantum Adjustable 2-Light LED Black Emerg...</td>\n",
       "    </tr>\n",
       "  </tbody>\n",
       "</table>\n",
       "</div>"
      ],
      "text/plain": [
       "   product_uid                                      product_title  \\\n",
       "0       100001                  Simpson Strong-Tie 12-Gauge Angle   \n",
       "2       100002  BEHR Premium Textured DeckOver 1-gal. #SC-141 ...   \n",
       "3       100005  Delta Vero 1-Handle Shower Only Faucet Trim Ki...   \n",
       "5       100006  Whirlpool 1.9 cu. ft. Over the Range Convectio...   \n",
       "8       100007  Lithonia Lighting Quantum 2-Light Black LED Em...   \n",
       "\n",
       "                                 product_description  \n",
       "0  Not only do angles make joints stronger, they ...  \n",
       "2  BEHR Premium Textured DECKOVER is an innovativ...  \n",
       "3  Update your bathroom with the Delta Vero Singl...  \n",
       "5  Achieving delicious results is almost effortle...  \n",
       "8  The Quantum Adjustable 2-Light LED Black Emerg...  "
      ]
     },
     "execution_count": 12,
     "metadata": {},
     "output_type": "execute_result"
    }
   ],
   "source": [
    "product_df = product_df.drop(columns = [\"id\",\"search_term\",\"relevance\"])\n",
    "product_df.head()"
   ]
  },
  {
   "cell_type": "code",
   "execution_count": 13,
   "metadata": {},
   "outputs": [],
   "source": [
    "# join the two df\n",
    "product_df = pd.merge(left=product_df, right=relevance, how='left', left_on='product_uid', right_on='product_uid')"
   ]
  },
  {
   "cell_type": "code",
   "execution_count": 14,
   "metadata": {},
   "outputs": [],
   "source": [
    "product_df['score'] = product_df['relevance']\n",
    "product_df = product_df.drop(columns = [\"relevance\"])"
   ]
  },
  {
   "cell_type": "code",
   "execution_count": 15,
   "metadata": {},
   "outputs": [
    {
     "data": {
      "text/html": [
       "<div>\n",
       "<style scoped>\n",
       "    .dataframe tbody tr th:only-of-type {\n",
       "        vertical-align: middle;\n",
       "    }\n",
       "\n",
       "    .dataframe tbody tr th {\n",
       "        vertical-align: top;\n",
       "    }\n",
       "\n",
       "    .dataframe thead th {\n",
       "        text-align: right;\n",
       "    }\n",
       "</style>\n",
       "<table border=\"1\" class=\"dataframe\">\n",
       "  <thead>\n",
       "    <tr style=\"text-align: right;\">\n",
       "      <th></th>\n",
       "      <th>product_uid</th>\n",
       "      <th>product_title</th>\n",
       "      <th>product_description</th>\n",
       "      <th>score</th>\n",
       "    </tr>\n",
       "  </thead>\n",
       "  <tbody>\n",
       "    <tr>\n",
       "      <th>0</th>\n",
       "      <td>100001</td>\n",
       "      <td>Simpson Strong-Tie 12-Gauge Angle</td>\n",
       "      <td>Not only do angles make joints stronger, they ...</td>\n",
       "      <td>3.0</td>\n",
       "    </tr>\n",
       "    <tr>\n",
       "      <th>22032</th>\n",
       "      <td>136398</td>\n",
       "      <td>Havahart Large Collapsible Easy Set Live Anima...</td>\n",
       "      <td>Easy Set live animal cage traps are innovative...</td>\n",
       "      <td>3.0</td>\n",
       "    </tr>\n",
       "    <tr>\n",
       "      <th>22051</th>\n",
       "      <td>136439</td>\n",
       "      <td>Safavieh Ellis 40.9 in. Brown Rattan Round Fol...</td>\n",
       "      <td>Made in the shade. The Ellis Round Folding Tab...</td>\n",
       "      <td>3.0</td>\n",
       "    </tr>\n",
       "    <tr>\n",
       "      <th>22049</th>\n",
       "      <td>136435</td>\n",
       "      <td>3M 18 in. Orange PVC Non Reflective Traffic Sa...</td>\n",
       "      <td>3M safety cones are constructed of extra-heavy...</td>\n",
       "      <td>3.0</td>\n",
       "    </tr>\n",
       "    <tr>\n",
       "      <th>22046</th>\n",
       "      <td>136429</td>\n",
       "      <td>Columbia Forest Products 1/2 in. x 4 ft. x 8 f...</td>\n",
       "      <td>Exclusively available at the Home Depot: FSC-c...</td>\n",
       "      <td>3.0</td>\n",
       "    </tr>\n",
       "    <tr>\n",
       "      <th>...</th>\n",
       "      <td>...</td>\n",
       "      <td>...</td>\n",
       "      <td>...</td>\n",
       "      <td>...</td>\n",
       "    </tr>\n",
       "    <tr>\n",
       "      <th>41214</th>\n",
       "      <td>175045</td>\n",
       "      <td>Splashback Tile Bliss Edged Hexagon Polished K...</td>\n",
       "      <td>Try before you buy. Order an affordable tile s...</td>\n",
       "      <td>1.0</td>\n",
       "    </tr>\n",
       "    <tr>\n",
       "      <th>18514</th>\n",
       "      <td>129949</td>\n",
       "      <td>Zadro Surround Light 7X Vanity Mirror in Acrylic</td>\n",
       "      <td>The Surround Light 7X Acrylic Vanity Mirror of...</td>\n",
       "      <td>1.0</td>\n",
       "    </tr>\n",
       "    <tr>\n",
       "      <th>28784</th>\n",
       "      <td>149088</td>\n",
       "      <td>Hilti HDM 500 Manual Anchor Adhesive Dispenser...</td>\n",
       "      <td>Hilti's new HDM 500 Anchor Adhesive Dispenser ...</td>\n",
       "      <td>1.0</td>\n",
       "    </tr>\n",
       "    <tr>\n",
       "      <th>49709</th>\n",
       "      <td>194550</td>\n",
       "      <td>DECOLAV Classically Redefined Semi-Recessed Re...</td>\n",
       "      <td>Classically redefine your powder room with a w...</td>\n",
       "      <td>1.0</td>\n",
       "    </tr>\n",
       "    <tr>\n",
       "      <th>19351</th>\n",
       "      <td>131475</td>\n",
       "      <td>Best Barns Northwood 10 ft. x 10 ft. Wood Stor...</td>\n",
       "      <td>The Northwood wooden shed kit will make a very...</td>\n",
       "      <td>1.0</td>\n",
       "    </tr>\n",
       "  </tbody>\n",
       "</table>\n",
       "<p>54667 rows × 4 columns</p>\n",
       "</div>"
      ],
      "text/plain": [
       "       product_uid                                      product_title  \\\n",
       "0           100001                  Simpson Strong-Tie 12-Gauge Angle   \n",
       "22032       136398  Havahart Large Collapsible Easy Set Live Anima...   \n",
       "22051       136439  Safavieh Ellis 40.9 in. Brown Rattan Round Fol...   \n",
       "22049       136435  3M 18 in. Orange PVC Non Reflective Traffic Sa...   \n",
       "22046       136429  Columbia Forest Products 1/2 in. x 4 ft. x 8 f...   \n",
       "...            ...                                                ...   \n",
       "41214       175045  Splashback Tile Bliss Edged Hexagon Polished K...   \n",
       "18514       129949   Zadro Surround Light 7X Vanity Mirror in Acrylic   \n",
       "28784       149088  Hilti HDM 500 Manual Anchor Adhesive Dispenser...   \n",
       "49709       194550  DECOLAV Classically Redefined Semi-Recessed Re...   \n",
       "19351       131475  Best Barns Northwood 10 ft. x 10 ft. Wood Stor...   \n",
       "\n",
       "                                     product_description  score  \n",
       "0      Not only do angles make joints stronger, they ...    3.0  \n",
       "22032  Easy Set live animal cage traps are innovative...    3.0  \n",
       "22051  Made in the shade. The Ellis Round Folding Tab...    3.0  \n",
       "22049  3M safety cones are constructed of extra-heavy...    3.0  \n",
       "22046  Exclusively available at the Home Depot: FSC-c...    3.0  \n",
       "...                                                  ...    ...  \n",
       "41214  Try before you buy. Order an affordable tile s...    1.0  \n",
       "18514  The Surround Light 7X Acrylic Vanity Mirror of...    1.0  \n",
       "28784  Hilti's new HDM 500 Anchor Adhesive Dispenser ...    1.0  \n",
       "49709  Classically redefine your powder room with a w...    1.0  \n",
       "19351  The Northwood wooden shed kit will make a very...    1.0  \n",
       "\n",
       "[54667 rows x 4 columns]"
      ]
     },
     "execution_count": 15,
     "metadata": {},
     "output_type": "execute_result"
    }
   ],
   "source": [
    "product_df.sort_values('score',ascending = False)"
   ]
  },
  {
   "cell_type": "code",
   "execution_count": 16,
   "metadata": {},
   "outputs": [],
   "source": [
    "product_df['bag_of_words'] = product_df['product_title']+ \" \"+ product_df[\"product_description\"]"
   ]
  },
  {
   "cell_type": "code",
   "execution_count": 17,
   "metadata": {},
   "outputs": [
    {
     "data": {
      "text/plain": [
       "1    BEHR Premium Textured DeckOver 1-gal. #SC-141 ...\n",
       "2    Delta Vero 1-Handle Shower Only Faucet Trim Ki...\n",
       "3    Whirlpool 1.9 cu. ft. Over the Range Convectio...\n",
       "4    Lithonia Lighting Quantum 2-Light Black LED Em...\n",
       "5    House of Fara 3/4 in. x 3 in. x 8 ft. MDF Flut...\n",
       "6    Valley View Industries Metal Stakes (4-Pack) V...\n",
       "7    Toro Personal Pace Recycler 22 in. Variable Sp...\n",
       "8    Hampton Bay Caramel Simple Weave Bamboo Rollup...\n",
       "9    InSinkErator SinkTop Switch Single Outlet for ...\n",
       "Name: bag_of_words, dtype: object"
      ]
     },
     "execution_count": 17,
     "metadata": {},
     "output_type": "execute_result"
    }
   ],
   "source": [
    "product_df['bag_of_words'][1:10]"
   ]
  },
  {
   "cell_type": "code",
   "execution_count": 18,
   "metadata": {},
   "outputs": [],
   "source": [
    "customize_stopwords = (['add', 'added', 'additional','allow', 'allows','best','come','cut', \\\n",
    "                        'cutting', 'day', 'easily', 'easy', 'efficiency', 'efficient', 'end',\\\n",
    "                        'ensure', 'help','included', 'includes', 'including','item','look','make', \\\n",
    "                        'nbsp', 'need','required', 'requires','use','used', 'using', 'variety', \\\n",
    "                        'vary','work','year','simple', 'single', 'size', 'small','home','depot',\\\n",
    "                       'pre','ready', 'resident', 'residential'])"
   ]
  },
  {
   "cell_type": "code",
   "execution_count": 19,
   "metadata": {},
   "outputs": [],
   "source": [
    "def transform_sentence_to_list_of_words(df, column, new_column):\n",
    "    description_words = []\n",
    "\n",
    "    alphanumeric = lambda x: re.sub('\\w*\\d\\w*', '', x)\n",
    "    punc_lower = lambda x: re.sub('[%s]' % re.escape(string.punctuation), '', x.lower())\n",
    "\n",
    "    df[new_column] = df[column].map(alphanumeric).map(punc_lower)\n",
    "\n",
    "    for n in range(len(df[new_column])):\n",
    "        text = df[new_column].iloc[n]\n",
    "        \n",
    "        \n",
    "#       separate words missing whitespace\n",
    "        separation = wordninja.split(text)\n",
    "\n",
    "#       Load stop words\n",
    "        stop_words = stopwords.words('english')\n",
    "#       Remove basic stop words\n",
    "        new_text = [word for word in separation if word not in stop_words]\n",
    "#       remove customized stop words\n",
    "        new_text = [word for word in new_text if word not in customize_stopwords]\n",
    "#       lemmitization\n",
    "        lemmatizer = WordNetLemmatizer() \n",
    "        lemm=[]\n",
    "        for i in new_text:\n",
    "            lemm.append(lemmatizer.lemmatize(i))\n",
    "\n",
    "#       remove duplicate words\n",
    "        unique_words = []\n",
    "        for i in lemm:\n",
    "            if i not in unique_words:\n",
    "                unique_words.append(i)\n",
    "#       add each list of unique words in each row to a new list \n",
    "#       that will replace the original description\n",
    "        unique_words = ' '.join(unique_words)\n",
    "        description_words.append(unique_words)\n",
    "    \n",
    "    df[new_column] = pd.Series(description_words)"
   ]
  },
  {
   "cell_type": "code",
   "execution_count": 20,
   "metadata": {},
   "outputs": [],
   "source": [
    "transform_sentence_to_list_of_words(product_df, 'bag_of_words','description_words')"
   ]
  },
  {
   "cell_type": "code",
   "execution_count": 21,
   "metadata": {},
   "outputs": [
    {
     "data": {
      "text/plain": [
       "(54667, 4)"
      ]
     },
     "execution_count": 21,
     "metadata": {},
     "output_type": "execute_result"
    }
   ],
   "source": [
    "#Replace NaN with an empty string\n",
    "product_df['description_words'] = product_df['description_words'].dropna()\n",
    "product_df = product_df.drop(columns = [\"bag_of_words\",\"score\"])\n",
    "product_df.shape"
   ]
  },
  {
   "cell_type": "code",
   "execution_count": 24,
   "metadata": {},
   "outputs": [],
   "source": [
    "pickle_out = open(\"pickle/product_df.pickle\",\"wb\")\n",
    "pickle.dump(product_df, pickle_out)\n",
    "pickle_out.close()"
   ]
  },
  {
   "cell_type": "code",
   "execution_count": 30,
   "metadata": {},
   "outputs": [
    {
     "data": {
      "text/html": [
       "<div>\n",
       "<style scoped>\n",
       "    .dataframe tbody tr th:only-of-type {\n",
       "        vertical-align: middle;\n",
       "    }\n",
       "\n",
       "    .dataframe tbody tr th {\n",
       "        vertical-align: top;\n",
       "    }\n",
       "\n",
       "    .dataframe thead th {\n",
       "        text-align: right;\n",
       "    }\n",
       "</style>\n",
       "<table border=\"1\" class=\"dataframe\">\n",
       "  <thead>\n",
       "    <tr style=\"text-align: right;\">\n",
       "      <th></th>\n",
       "      <th>product_uid</th>\n",
       "      <th>product_title</th>\n",
       "      <th>product_description</th>\n",
       "      <th>description_words</th>\n",
       "    </tr>\n",
       "  </thead>\n",
       "  <tbody>\n",
       "    <tr>\n",
       "      <th>0</th>\n",
       "      <td>100001</td>\n",
       "      <td>Simpson Strong-Tie 12-Gauge Angle</td>\n",
       "      <td>Not only do angles make joints stronger, they ...</td>\n",
       "      <td>simpson strong tie gauge angle joint stronger ...</td>\n",
       "    </tr>\n",
       "    <tr>\n",
       "      <th>1</th>\n",
       "      <td>100002</td>\n",
       "      <td>BEHR Premium Textured DeckOver 1-gal. #SC-141 ...</td>\n",
       "      <td>BEHR Premium Textured DECKOVER is an innovativ...</td>\n",
       "      <td>hr premium textured deck gal sc tugboat wood c...</td>\n",
       "    </tr>\n",
       "    <tr>\n",
       "      <th>2</th>\n",
       "      <td>100005</td>\n",
       "      <td>Delta Vero 1-Handle Shower Only Faucet Trim Ki...</td>\n",
       "      <td>Update your bathroom with the Delta Vero Singl...</td>\n",
       "      <td>delta vero handle shower faucet trim kit chrom...</td>\n",
       "    </tr>\n",
       "    <tr>\n",
       "      <th>3</th>\n",
       "      <td>100006</td>\n",
       "      <td>Whirlpool 1.9 cu. ft. Over the Range Convectio...</td>\n",
       "      <td>Achieving delicious results is almost effortle...</td>\n",
       "      <td>whirlpool cu ft range convection microwave sta...</td>\n",
       "    </tr>\n",
       "    <tr>\n",
       "      <th>4</th>\n",
       "      <td>100007</td>\n",
       "      <td>Lithonia Lighting Quantum 2-Light Black LED Em...</td>\n",
       "      <td>The Quantum Adjustable 2-Light LED Black Emerg...</td>\n",
       "      <td>litho nia lighting quantum light black led eme...</td>\n",
       "    </tr>\n",
       "  </tbody>\n",
       "</table>\n",
       "</div>"
      ],
      "text/plain": [
       "   product_uid                                      product_title  \\\n",
       "0       100001                  Simpson Strong-Tie 12-Gauge Angle   \n",
       "1       100002  BEHR Premium Textured DeckOver 1-gal. #SC-141 ...   \n",
       "2       100005  Delta Vero 1-Handle Shower Only Faucet Trim Ki...   \n",
       "3       100006  Whirlpool 1.9 cu. ft. Over the Range Convectio...   \n",
       "4       100007  Lithonia Lighting Quantum 2-Light Black LED Em...   \n",
       "\n",
       "                                 product_description  \\\n",
       "0  Not only do angles make joints stronger, they ...   \n",
       "1  BEHR Premium Textured DECKOVER is an innovativ...   \n",
       "2  Update your bathroom with the Delta Vero Singl...   \n",
       "3  Achieving delicious results is almost effortle...   \n",
       "4  The Quantum Adjustable 2-Light LED Black Emerg...   \n",
       "\n",
       "                                   description_words  \n",
       "0  simpson strong tie gauge angle joint stronger ...  \n",
       "1  hr premium textured deck gal sc tugboat wood c...  \n",
       "2  delta vero handle shower faucet trim kit chrom...  \n",
       "3  whirlpool cu ft range convection microwave sta...  \n",
       "4  litho nia lighting quantum light black led eme...  "
      ]
     },
     "execution_count": 30,
     "metadata": {},
     "output_type": "execute_result"
    }
   ],
   "source": [
    "pickle_in = open(\"pickle/product_df.pickle\",\"rb\")\n",
    "product_df = pickle.load(pickle_in)\n",
    "product_df.head()"
   ]
  },
  {
   "cell_type": "code",
   "execution_count": 22,
   "metadata": {},
   "outputs": [
    {
     "data": {
      "text/plain": [
       "(20000, 4)"
      ]
     },
     "execution_count": 22,
     "metadata": {},
     "output_type": "execute_result"
    }
   ],
   "source": [
    "#We will select only 20000 rows for our demo purpose\n",
    "product_df = product_df[1:20001]\n",
    "product_df.shape"
   ]
  },
  {
   "cell_type": "code",
   "execution_count": 23,
   "metadata": {},
   "outputs": [
    {
     "data": {
      "text/plain": [
       "(20000, 17834)"
      ]
     },
     "execution_count": 23,
     "metadata": {},
     "output_type": "execute_result"
    }
   ],
   "source": [
    "#Define a TF-IDF Vectorizer Object. Remove all english stop words such as 'the', 'a'\n",
    "tfidf = TfidfVectorizer(stop_words='english')\n",
    "\n",
    "#Construct the required TF-IDF matrix by fitting and transforming the data\n",
    "tfidf_matrix = tfidf.fit_transform(product_df['description_words'])\n",
    "#tfidf_matrix = tfidf_matrix.T.toarray()\n",
    "\n",
    "# Create a DataFrame and set the vocabulary as the index\n",
    "#df = pd.DataFrame(tfidf_matrix, index=tfidf.get_feature_names())\n",
    "#Output the shape of tfidf_matrix\n",
    "tfidf_matrix.shape"
   ]
  },
  {
   "cell_type": "code",
   "execution_count": 24,
   "metadata": {},
   "outputs": [
    {
     "data": {
      "image/png": "[encoded data removed]",
      "text/plain": [
       "<PIL.Image.Image image mode=RGB size=400x200 at 0x7FD3337E8F90>"
      ]
     },
     "execution_count": 24,
     "metadata": {},
     "output_type": "execute_result"
    }
   ],
   "source": [
    "# Import the wordcloud library\n",
    "from wordcloud import WordCloud\n",
    "# Join the different processed titles together.\n",
    "long_string = ','.join(list(product_df['description_words'].values))\n",
    "# Create a WordCloud object\n",
    "wordcloud = WordCloud(background_color=\"white\", max_words=5000, contour_width=3, contour_color='steelblue')\n",
    "# Generate a word cloud\n",
    "wordcloud.generate(long_string)\n",
    "# Visualize the word cloud\n",
    "wordcloud.to_image()"
   ]
  },
  {
   "cell_type": "code",
   "execution_count": 25,
   "metadata": {},
   "outputs": [],
   "source": [
    "# Compute the cosine similarity matrix\n",
    "cosine_sim = linear_kernel(tfidf_matrix, tfidf_matrix)"
   ]
  },
  {
   "cell_type": "code",
   "execution_count": 26,
   "metadata": {},
   "outputs": [
    {
     "data": {
      "text/plain": [
       "(20000, 20000)"
      ]
     },
     "execution_count": 26,
     "metadata": {},
     "output_type": "execute_result"
    }
   ],
   "source": [
    "cosine_sim.shape"
   ]
  },
  {
   "cell_type": "code",
   "execution_count": 36,
   "metadata": {},
   "outputs": [],
   "source": [
    "pickle_out = open(\"pickle/cosine_sim.pickle\",\"wb\")\n",
    "pickle.dump(cosine_sim, pickle_out,protocol=4)\n",
    "pickle_out.close()"
   ]
  },
  {
   "cell_type": "code",
   "execution_count": 37,
   "metadata": {},
   "outputs": [],
   "source": [
    "import pickle\n",
    "pickle_in = open(\"pickle/cosine_sim.pickle\",\"rb\")\n",
    "cosine_sim1 = pickle.load(pickle_in)\n"
   ]
  },
  {
   "cell_type": "code",
   "execution_count": 38,
   "metadata": {},
   "outputs": [
    {
     "data": {
      "text/plain": [
       "array([0.03815803, 1.        , 0.04347497, ..., 0.        , 0.        ,\n",
       "       0.        ])"
      ]
     },
     "execution_count": 38,
     "metadata": {},
     "output_type": "execute_result"
    }
   ],
   "source": [
    "cosine_sim1[1]"
   ]
  },
  {
   "cell_type": "code",
   "execution_count": 27,
   "metadata": {},
   "outputs": [],
   "source": [
    "#Construct a reverse map of indices and product titles\n",
    "indices = pd.Series(product_df.index, index=product_df['product_title']).drop_duplicates()"
   ]
  },
  {
   "cell_type": "code",
   "execution_count": 28,
   "metadata": {
    "scrolled": false
   },
   "outputs": [
    {
     "data": {
      "text/plain": [
       "product_title\n",
       "BEHR Premium Textured DeckOver 1-gal. #SC-141 Tugboat Wood and Concrete Coating                                       1\n",
       "Delta Vero 1-Handle Shower Only Faucet Trim Kit in Chrome (Valve Not Included)                                        2\n",
       "Whirlpool 1.9 cu. ft. Over the Range Convection Microwave in Stainless Steel with Sensor Cooking                      3\n",
       "Lithonia Lighting Quantum 2-Light Black LED Emergency Fixture Unit                                                    4\n",
       "House of Fara 3/4 in. x 3 in. x 8 ft. MDF Fluted Casing                                                               5\n",
       "Valley View Industries Metal Stakes (4-Pack)                                                                          6\n",
       "Toro Personal Pace Recycler 22 in. Variable Speed Self-Propelled Gas Lawn Mower with Briggs &amp; Stratton Engine     7\n",
       "Hampton Bay Caramel Simple Weave Bamboo Rollup Shade - 96 in. W x 72 in. L                                            8\n",
       "InSinkErator SinkTop Switch Single Outlet for InSinkErator Disposers                                                  9\n",
       "Sunjoy Calais 8 ft. x 5 ft. x 8 ft. Steel Tile Fabric Grill Gazebo                                                   10\n",
       "dtype: int64"
      ]
     },
     "execution_count": 28,
     "metadata": {},
     "output_type": "execute_result"
    }
   ],
   "source": [
    "indices[:10]"
   ]
  },
  {
   "cell_type": "code",
   "execution_count": 38,
   "metadata": {},
   "outputs": [],
   "source": [
    "# Function that takes in product title as input and outputs most similar products\n",
    "def get_recommendations(query, cosine_sim=cosine_sim):\n",
    "    # Get the index of the product that matches the query\n",
    "    \n",
    "    # gettin the index of the product that matches the title\n",
    "    idx = indices[query]\n",
    "    \n",
    "    # Get the pairwsie similarity scores of all products with that product\n",
    "    sim_scores = list(enumerate(cosine_sim[idx]))\n",
    "\n",
    "    # Sort the product based on the similarity scores\n",
    "    sim_scores = sorted(sim_scores, key=lambda x: x[1], reverse=True)\n",
    "\n",
    "    # Get the scores of the 10 most similar product\n",
    "    sim_scores = sim_scores[1:15]\n",
    "\n",
    "    # Get the product indices\n",
    "    product_indices = [i[0] for i in sim_scores]\n",
    "    \n",
    "    df = product_df['product_title'].iloc[product_indices]\n",
    "    # Return the top 10 most similar products\n",
    "    return df"
   ]
  },
  {
   "cell_type": "code",
   "execution_count": 39,
   "metadata": {},
   "outputs": [
    {
     "name": "stderr",
     "output_type": "stream",
     "text": [
      "/Users/aishwaryajakka/Anaconda3/anaconda3/lib/python3.7/site-packages/ipykernel_launcher.py:1: FutureWarning: Passing a negative integer is deprecated in version 1.0 and will not be supported in future version. Instead, use None to not limit the column width.\n",
      "  \"\"\"Entry point for launching an IPython kernel.\n"
     ]
    }
   ],
   "source": [
    "pd.set_option('display.max_colwidth', -1)"
   ]
  },
  {
   "cell_type": "code",
   "execution_count": 92,
   "metadata": {},
   "outputs": [],
   "source": [
    "df = get_recommendations('Lithonia Lighting Quantum 2-Light Black LED Emergency Fixture Unit',cosine_sim)"
   ]
  },
  {
   "cell_type": "code",
   "execution_count": 93,
   "metadata": {},
   "outputs": [],
   "source": [
    "df = pd.DataFrame(data=df)\n"
   ]
  },
  {
   "cell_type": "code",
   "execution_count": 94,
   "metadata": {},
   "outputs": [],
   "source": [
    "df = df[\"product_title\"].str.split(\"\", n = 1, expand = True)"
   ]
  },
  {
   "cell_type": "code",
   "execution_count": 95,
   "metadata": {},
   "outputs": [],
   "source": [
    "df[\"product_uid\"] = df.index"
   ]
  },
  {
   "cell_type": "code",
   "execution_count": 96,
   "metadata": {},
   "outputs": [],
   "source": [
    "df = df.rename(columns={1: \"product_title\"})"
   ]
  },
  {
   "cell_type": "code",
   "execution_count": 103,
   "metadata": {},
   "outputs": [
    {
     "data": {
      "text/html": [
       "<div>\n",
       "<style scoped>\n",
       "    .dataframe tbody tr th:only-of-type {\n",
       "        vertical-align: middle;\n",
       "    }\n",
       "\n",
       "    .dataframe tbody tr th {\n",
       "        vertical-align: top;\n",
       "    }\n",
       "\n",
       "    .dataframe thead th {\n",
       "        text-align: right;\n",
       "    }\n",
       "</style>\n",
       "<table border=\"1\" class=\"dataframe\">\n",
       "  <thead>\n",
       "    <tr style=\"text-align: right;\">\n",
       "      <th></th>\n",
       "      <th>product_title</th>\n",
       "      <th>product_uid</th>\n",
       "    </tr>\n",
       "  </thead>\n",
       "  <tbody>\n",
       "    <tr>\n",
       "      <th>17026</th>\n",
       "      <td>House of Fara 3/4 in. x 2-1/4 in. x 8 ft. MDF Fluted Casing</td>\n",
       "      <td>17026</td>\n",
       "    </tr>\n",
       "    <tr>\n",
       "      <th>7467</th>\n",
       "      <td>House of Fara 3/4 in. x 4-1/4 in. x 8 ft. MDF Fluted Casing</td>\n",
       "      <td>7467</td>\n",
       "    </tr>\n",
       "    <tr>\n",
       "      <th>12189</th>\n",
       "      <td>House of Fara 3/4 in. x 4-1/2 in. x 8 ft. MDF Crown Moulding</td>\n",
       "      <td>12189</td>\n",
       "    </tr>\n",
       "    <tr>\n",
       "      <th>13436</th>\n",
       "      <td>House of Fara 5/8 in. x 4 in. x 8 ft. MDF Base Moulding</td>\n",
       "      <td>13436</td>\n",
       "    </tr>\n",
       "    <tr>\n",
       "      <th>14136</th>\n",
       "      <td>House of Fara 8835 3/4 in. x 3-1/4 in. x 96 in. MDF Casing Moulding</td>\n",
       "      <td>14136</td>\n",
       "    </tr>\n",
       "    <tr>\n",
       "      <th>5077</th>\n",
       "      <td>House of Fara 3/4 in. x 2-1/8 in. x 8 ft. MDF Panel Moulding</td>\n",
       "      <td>5077</td>\n",
       "    </tr>\n",
       "    <tr>\n",
       "      <th>5478</th>\n",
       "      <td>House of Fara 3/4 in. x 6-1/2 in. x 8 ft. MDF Base Moulding</td>\n",
       "      <td>5478</td>\n",
       "    </tr>\n",
       "    <tr>\n",
       "      <th>16038</th>\n",
       "      <td>House of Fara 1 in. x 1 in. x 8 in. MDF Inside Corner Moulding</td>\n",
       "      <td>16038</td>\n",
       "    </tr>\n",
       "    <tr>\n",
       "      <th>19315</th>\n",
       "      <td>House of Fara 3/4 in. x 1-1/4 in. x 8 ft. MDF Shoe Moulding</td>\n",
       "      <td>19315</td>\n",
       "    </tr>\n",
       "    <tr>\n",
       "      <th>11926</th>\n",
       "      <td>House of Fara 7/8 in. x 2-1/2 in. x 5 in. MDF Plinth Block</td>\n",
       "      <td>11926</td>\n",
       "    </tr>\n",
       "    <tr>\n",
       "      <th>1810</th>\n",
       "      <td>3/4 in. x 3 in. x 6 ft. MDF Fluted Window Casing Set</td>\n",
       "      <td>1810</td>\n",
       "    </tr>\n",
       "    <tr>\n",
       "      <th>15159</th>\n",
       "      <td>3/4 in. x 2-1/4 in. x 6 ft. MDF Fluted Window Casing Set</td>\n",
       "      <td>15159</td>\n",
       "    </tr>\n",
       "    <tr>\n",
       "      <th>481</th>\n",
       "      <td>3/4 in. x 2-1/4 in. x 8 ft. MDF Fluted Door Casing Set</td>\n",
       "      <td>481</td>\n",
       "    </tr>\n",
       "    <tr>\n",
       "      <th>674</th>\n",
       "      <td>3/4 in. x 3 in. x 8 ft. MDF Fluted Door Casing Set</td>\n",
       "      <td>674</td>\n",
       "    </tr>\n",
       "  </tbody>\n",
       "</table>\n",
       "</div>"
      ],
      "text/plain": [
       "                                                             product_title  \\\n",
       "17026  House of Fara 3/4 in. x 2-1/4 in. x 8 ft. MDF Fluted Casing           \n",
       "7467   House of Fara 3/4 in. x 4-1/4 in. x 8 ft. MDF Fluted Casing           \n",
       "12189  House of Fara 3/4 in. x 4-1/2 in. x 8 ft. MDF Crown Moulding          \n",
       "13436  House of Fara 5/8 in. x 4 in. x 8 ft. MDF Base Moulding               \n",
       "14136  House of Fara 8835 3/4 in. x 3-1/4 in. x 96 in. MDF Casing Moulding   \n",
       "5077   House of Fara 3/4 in. x 2-1/8 in. x 8 ft. MDF Panel Moulding          \n",
       "5478   House of Fara 3/4 in. x 6-1/2 in. x 8 ft. MDF Base Moulding           \n",
       "16038  House of Fara 1 in. x 1 in. x 8 in. MDF Inside Corner Moulding        \n",
       "19315  House of Fara 3/4 in. x 1-1/4 in. x 8 ft. MDF Shoe Moulding           \n",
       "11926  House of Fara 7/8 in. x 2-1/2 in. x 5 in. MDF Plinth Block            \n",
       "1810   3/4 in. x 3 in. x 6 ft. MDF Fluted Window Casing Set                  \n",
       "15159  3/4 in. x 2-1/4 in. x 6 ft. MDF Fluted Window Casing Set              \n",
       "481    3/4 in. x 2-1/4 in. x 8 ft. MDF Fluted Door Casing Set                \n",
       "674    3/4 in. x 3 in. x 8 ft. MDF Fluted Door Casing Set                    \n",
       "\n",
       "       product_uid  \n",
       "17026  17026        \n",
       "7467   7467         \n",
       "12189  12189        \n",
       "13436  13436        \n",
       "14136  14136        \n",
       "5077   5077         \n",
       "5478   5478         \n",
       "16038  16038        \n",
       "19315  19315        \n",
       "11926  11926        \n",
       "1810   1810         \n",
       "15159  15159        \n",
       "481    481          \n",
       "674    674          "
      ]
     },
     "execution_count": 103,
     "metadata": {},
     "output_type": "execute_result"
    }
   ],
   "source": [
    "df.drop(columns = 0)"
   ]
  },
  {
   "cell_type": "code",
   "execution_count": 107,
   "metadata": {},
   "outputs": [
    {
     "data": {
      "text/plain": [
       "17026    17026\n",
       "7467     7467 \n",
       "12189    12189\n",
       "13436    13436\n",
       "14136    14136\n",
       "5077     5077 \n",
       "5478     5478 \n",
       "16038    16038\n",
       "19315    19315\n",
       "11926    11926\n",
       "1810     1810 \n",
       "15159    15159\n",
       "481      481  \n",
       "674      674  \n",
       "Name: product_uid, dtype: int64"
      ]
     },
     "execution_count": 107,
     "metadata": {},
     "output_type": "execute_result"
    }
   ],
   "source": [
    "df[\"product_uid\"]"
   ]
  },
  {
   "cell_type": "code",
   "execution_count": null,
   "metadata": {},
   "outputs": [],
   "source": []
  }
 ],
 "metadata": {
  "kernelspec": {
   "display_name": "Python 3",
   "language": "python",
   "name": "python3"
  },
  "language_info": {
   "codemirror_mode": {
    "name": "ipython",
    "version": 3
   },
   "file_extension": ".py",
   "mimetype": "text/x-python",
   "name": "python",
   "nbconvert_exporter": "python",
   "pygments_lexer": "ipython3",
   "version": "3.7.6"
  }
 },
 "nbformat": 4,
 "nbformat_minor": 4
}
